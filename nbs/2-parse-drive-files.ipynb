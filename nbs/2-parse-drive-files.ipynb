{
 "cells": [
  {
   "cell_type": "code",
   "execution_count": 2,
   "id": "4688be3d",
   "metadata": {},
   "outputs": [],
   "source": [
    "from torch_snippets import *"
   ]
  },
  {
   "cell_type": "code",
   "execution_count": 3,
   "id": "d51b5f0a",
   "metadata": {},
   "outputs": [],
   "source": [
    "files = Glob(\"../data/drive_files/*.json\")\n",
    "files = sorted(files, key=lambda x: int(x.stem))\n",
    "# files = files[:2]"
   ]
  },
  {
   "cell_type": "code",
   "execution_count": 5,
   "id": "57891fe7",
   "metadata": {},
   "outputs": [
    {
     "name": "stdout",
     "output_type": "stream",
     "text": [
      "2689/2689 (1.21s  - 0.00s remaining - 2214.61 iters/s)          \r"
     ]
    }
   ],
   "source": [
    "x = {}\n",
    "for f in track2(files):\n",
    "    x.update(read_json(f))\n",
    "\n",
    "x = AD(x)"
   ]
  },
  {
   "cell_type": "code",
   "execution_count": 6,
   "id": "349b88ee",
   "metadata": {},
   "outputs": [
    {
     "name": "stdout",
     "output_type": "stream",
     "text": [
      "env: AD_MAX_ITEMS=10000000\n"
     ]
    }
   ],
   "source": [
    "def build_drive_tree(flat_files):\n",
    "    # Map each ID to its node\n",
    "    nodes = {}\n",
    "    for file_id, meta in flat_files.items():\n",
    "        node = {\n",
    "            \"id\": meta.id,\n",
    "            \"name\": meta.name,\n",
    "            \"mimeType\": meta.mimeType,\n",
    "            \"modifiedTime\": meta.modifiedTime,\n",
    "        }\n",
    "        if meta.mimeType == \"application/vnd.google-apps.folder\":\n",
    "            node[\"children\"] = {}\n",
    "        nodes[file_id] = node\n",
    "\n",
    "    # Build tree structure by linking parents to children\n",
    "    tree = {}\n",
    "    for file_id, meta in flat_files.items():\n",
    "        node = nodes[file_id]\n",
    "        parents = getattr(meta, \"parents\", [])\n",
    "        if parents:\n",
    "            parent_id = parents[0]  # assuming single-parent\n",
    "            if parent_id in nodes:\n",
    "                if meta.name == \"d\":\n",
    "                    meta.name = \"__d\"\n",
    "                nodes[parent_id].setdefault(\"children\", {})[meta.name] = node\n",
    "            else:\n",
    "                # Orphaned file, missing parent\n",
    "                if meta.name == \"d\":\n",
    "                    meta.name = \"__d\"\n",
    "                tree[meta.name] = node\n",
    "        else:\n",
    "            # Top-level (no parent)\n",
    "            if meta.name == \"d\":\n",
    "                meta.name = \"__d\"\n",
    "            tree[meta.name] = node\n",
    "\n",
    "    return AD(tree)\n",
    "\n",
    "\n",
    "tree = build_drive_tree(x)\n",
    "%env AD_MAX_ITEMS=10000000\n",
    "tree.write(\n",
    "    \"../data/drive_tree.txt\",\n",
    ")"
   ]
  },
  {
   "cell_type": "code",
   "execution_count": 7,
   "id": "d8b13bdf",
   "metadata": {},
   "outputs": [
    {
     "data": {
      "text/plain": [
       "» ../data/drive_tree.json"
      ]
     },
     "execution_count": 7,
     "metadata": {},
     "output_type": "execute_result"
    }
   ],
   "source": [
    "write_json(tree, \"../data/drive_tree.json\")"
   ]
  },
  {
   "cell_type": "code",
   "execution_count": null,
   "id": "a2aa4879",
   "metadata": {},
   "outputs": [],
   "source": []
  }
 ],
 "metadata": {
  "kernelspec": {
   "display_name": ".venv",
   "language": "python",
   "name": "python3"
  },
  "language_info": {
   "codemirror_mode": {
    "name": "ipython",
    "version": 3
   },
   "file_extension": ".py",
   "mimetype": "text/x-python",
   "name": "python",
   "nbconvert_exporter": "python",
   "pygments_lexer": "ipython3",
   "version": "3.12.10"
  }
 },
 "nbformat": 4,
 "nbformat_minor": 5
}
